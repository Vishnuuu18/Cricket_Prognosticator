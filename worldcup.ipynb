{
 "cells": [
  {
   "cell_type": "code",
   "execution_count": 1,
   "metadata": {},
   "outputs": [],
   "source": [
    "import pandas as pd\n",
    "import numpy as np\n",
    "import matplotlib.pyplot as plt\n",
    "import seaborn as sns"
   ]
  },
  {
   "cell_type": "code",
   "execution_count": null,
   "metadata": {},
   "outputs": [],
   "source": [
    "World_cup = pd.read_csv(\"worldcup/World_cup_2023.csv\")\n",
    "results = pd.read_csv(\"worldcup/results.csv\")"
   ]
  },
  {
   "cell_type": "code",
   "execution_count": null,
   "metadata": {},
   "outputs": [],
   "source": [
    "sns.set(rc={'figure.figsize':(20, 5)})\n",
    "\n",
    "# Create a bar plot using sns.barplot to visualize team titles\n",
    "sns.barplot(x='Team_name', y='Titles', data=World_cup)\n",
    "\n",
    "# Display the plot\n",
    "plt.show()"
   ]
  },
  {
   "cell_type": "code",
   "execution_count": null,
   "metadata": {},
   "outputs": [],
   "source": []
  },
  {
   "cell_type": "code",
   "execution_count": null,
   "metadata": {},
   "outputs": [],
   "source": [
    "# Set the figure size for the bar plot using Seaborn\n",
    "sns.set(rc={'figure.figsize':(20, 5)})\n",
    "\n",
    "# Create a bar plot using Seaborn\n",
    "sns.barplot(x='Team_name', y='Win_percentage_ODI', data=World_cup)\n",
    "\n",
    "# Display the plot\n",
    "plt.show()\n"
   ]
  },
  {
   "cell_type": "code",
   "execution_count": null,
   "metadata": {},
   "outputs": [],
   "source": [
    "# Set the figure size for the bar plot using Seaborn\n",
    "sns.set(rc={'figure.figsize':(20, 5)})\n",
    "\n",
    "# Create a bar plot using Seaborn\n",
    "sns.barplot(x='Team_name', y='WC_match_won', data=World_cup)\n",
    "\n",
    "# Display the plot\n",
    "plt.show()"
   ]
  },
  {
   "cell_type": "code",
   "execution_count": null,
   "metadata": {},
   "outputs": [],
   "source": [
    "# Set the figure size for the bar plot using Seaborn\n",
    "sns.set(rc={'figure.figsize':(20, 5)})\n",
    "\n",
    "# Create a bar plot using Seaborn to display recent ratings of teams\n",
    "sns.barplot(x='Team_name', y='Rating', data=World_cup)\n",
    "\n",
    "# Display the plot\n",
    "plt.show()"
   ]
  },
  {
   "cell_type": "code",
   "execution_count": null,
   "metadata": {},
   "outputs": [],
   "source": [
    "results.head()"
   ]
  },
  {
   "cell_type": "code",
   "execution_count": 9,
   "metadata": {},
   "outputs": [],
   "source": [
    "results.drop(results[(results['Winner'] == 'Match abandoned' )].index, inplace=True)\n",
    "results.drop(results[(results['Winner'] == 'No result' )].index, inplace=True)\n"
   ]
  },
  {
   "cell_type": "code",
   "execution_count": null,
   "metadata": {},
   "outputs": [],
   "source": [
    "df = results[(results['Team_1'] == 'India') | (results['Team_2'] == 'India')]\n",
    "\n",
    "# Create a new DataFrame 'India' containing all rows from the filtered DataFrame\n",
    "India = df.iloc[:]\n",
    "\n",
    "# Display the first few rows of the 'India' DataFrame\n",
    "India.head()\n"
   ]
  },
  {
   "cell_type": "code",
   "execution_count": 11,
   "metadata": {},
   "outputs": [],
   "source": [
    "India_win = India[India['Winner']=='India']"
   ]
  },
  {
   "cell_type": "code",
   "execution_count": null,
   "metadata": {},
   "outputs": [],
   "source": [
    "India_win"
   ]
  },
  {
   "cell_type": "code",
   "execution_count": null,
   "metadata": {},
   "outputs": [],
   "source": [
    "excluded_value = 'India'\n",
    "\n",
    "# Filtering out rows with the excluded value\n",
    "filtered_df = India_win[India_win['Team_2'] != excluded_value]\n",
    "\n",
    "# Counting the occurrences of each value in the filtered DataFrame's 'Team_2' column.\n",
    "value_counts = filtered_df['Team_2'].value_counts()\n",
    "\n",
    "# Print the value counts\n",
    "print(value_counts)\n"
   ]
  },
  {
   "cell_type": "code",
   "execution_count": null,
   "metadata": {},
   "outputs": [],
   "source": [
    "excluded_value = 'India'\n",
    "\n",
    "# Filtering out rows with the excluded value\n",
    "filtered_df = India_win[India_win['Team_1'] != excluded_value]\n",
    "\n",
    "# Counting the occurrences of each value in the filtered DataFrame's 'Team_2' column.\n",
    "value_counts = filtered_df['Team_1'].value_counts()\n",
    "\n",
    "# Print the value counts\n",
    "print(value_counts)"
   ]
  },
  {
   "cell_type": "code",
   "execution_count": null,
   "metadata": {},
   "outputs": [],
   "source": [
    "exclude = 'India'\n",
    "\n",
    "# Filter out the opponent to exclude from the data\n",
    "filtered_data = India_win[India_win['Team_2'] != exclude]\n",
    "\n",
    "# Plotting a bar chart to show the top 5 opponents faced by India.\n",
    "plt.figure(figsize=(8, 5))\n",
    "plt.bar(list(filtered_data['Team_2'].value_counts()[0:5].keys()), list(filtered_data['Team_2'].value_counts()[0:5]), color=\"b\")\n",
    "plt.show()"
   ]
  },
  {
   "cell_type": "code",
   "execution_count": null,
   "metadata": {},
   "outputs": [],
   "source": [
    "exclude = 'India'\n",
    "\n",
    "# Filter out the opponent to exclude from the data\n",
    "filtered_data = India_win[India_win['Team_1'] != exclude]\n",
    "\n",
    "# Plotting a bar chart to show the top 5 opponents faced by India.\n",
    "plt.figure(figsize=(8, 5))\n",
    "plt.bar(list(filtered_data['Team_1'].value_counts()[0:5].keys()), list(filtered_data['Team_1'].value_counts()[0:5]), color=\"b\")\n",
    "plt.show()"
   ]
  },
  {
   "cell_type": "code",
   "execution_count": null,
   "metadata": {},
   "outputs": [],
   "source": [
    "team_win_counts = {\n",
    "    'Australia': 54,\n",
    "    'New Zealand': 58,\n",
    "    'South Africa ': 37,\n",
    "    'Pakistan': \t55,\n",
    "    'Sri Lanka': 93,\n",
    "    'Bangladesh': 30,\n",
    "    'England': 57,\n",
    "    'Netherlands': 2,\n",
    "    'Afghanistan': 3\n",
    "}\n",
    "\n",
    "# Total matches played is calculated\n",
    "total_matches = sum(team_win_counts.values())\n",
    "\n",
    "# India's win percentages against each team is calculated\n",
    "win_percentages = {team: (wins / total_matches) * 100 for team, wins in team_win_counts.items()}\n",
    "plt.figure(figsize=(5, 5))\n",
    "plt.pie(win_percentages.values(), labels=win_percentages.keys(), autopct='%1.1f%%', startangle=140)\n",
    "\n",
    "# Equal aspect ratio ensures that pie is drawn as a circle.\n",
    "plt.axis('equal')\n",
    "\n",
    "# Title for the pie chart\n",
    "plt.title('Win Percentage of India Against Each Team')\n",
    "\n",
    "# Display the pie chart\n",
    "plt.show()\n"
   ]
  },
  {
   "cell_type": "code",
   "execution_count": null,
   "metadata": {},
   "outputs": [],
   "source": [
    "team_win_counts_wc_ind = {\n",
    "    'Australia': 4,\n",
    "    'New Zealand': 3,\n",
    "    'South Africa ': 2,\n",
    "    'Pakistan': 7,\n",
    "    'Sri Lanka': 5,\n",
    "    'Bangladesh': 3,\n",
    "    'England': 3,\n",
    "    'Netherlands': 2,\n",
    "    'Afghanistan': 2\n",
    "}\n",
    "\n",
    "# Total matches played is calculated\n",
    "total_matches_wc_ind = sum(team_win_counts_wc_ind.values())\n",
    "\n",
    "# India's win percentages against each team is calculated\n",
    "win_percentages_wc_ind = {team: (wins / total_matches_wc_ind) * 100 for team, wins in team_win_counts_wc_ind.items()}\n",
    "plt.figure(figsize=(5, 5))\n",
    "plt.pie(win_percentages_wc_ind.values(), labels=win_percentages_wc_ind.keys(), autopct='%1.1f%%', startangle=140)\n",
    "\n",
    "# Equal aspect ratio ensures that pie is drawn as a circle.\n",
    "plt.axis('equal')\n",
    "\n",
    "# Title for the pie chart\n",
    "plt.title('Win Percentage of India in the ODI world cup')\n",
    "\n",
    "# Display the pie chart\n",
    "plt.show()"
   ]
  },
  {
   "cell_type": "code",
   "execution_count": null,
   "metadata": {},
   "outputs": [],
   "source": [
    "\n",
    "df1 = results[(results['Team_1'] == 'Australia') | (results['Team_2'] == 'Australia')]\n",
    "\n",
    "# Create a new DataFrame 'Australia' containing all rows from the filtered DataFrame\n",
    "Australia = df1.iloc[:]\n",
    "\n",
    "# Display the first few rows of the 'Australia' DataFrame\n",
    "Australia.head()"
   ]
  },
  {
   "cell_type": "code",
   "execution_count": null,
   "metadata": {},
   "outputs": [],
   "source": [
    "Australia_win = Australia[Australia['Winner']=='Australia']\n",
    "Australia_win\n"
   ]
  },
  {
   "cell_type": "code",
   "execution_count": null,
   "metadata": {},
   "outputs": [],
   "source": [
    "excluded_value = 'Australia'\n",
    "\n",
    "# Filtering out rows with the excluded value\n",
    "filtered_df = Australia_win[Australia_win['Team_2'] != excluded_value]\n",
    "\n",
    "# Counting the occurrences of each value in the filtered DataFrame's 'Team_2' column.\n",
    "value_counts = filtered_df['Team_2'].value_counts()\n",
    "\n",
    "# Print the value counts\n",
    "print(value_counts)"
   ]
  },
  {
   "cell_type": "code",
   "execution_count": null,
   "metadata": {},
   "outputs": [],
   "source": [
    "excluded_value = 'Australia'\n",
    "\n",
    "# Filtering out rows with the excluded value\n",
    "filtered_df = Australia_win[Australia_win['Team_1'] != excluded_value]\n",
    "\n",
    "# Counting the occurrences of each value in the filtered DataFrame's 'Team_2' column.\n",
    "value_counts = filtered_df['Team_1'].value_counts()\n",
    "\n",
    "# Print the value counts\n",
    "print(value_counts)"
   ]
  },
  {
   "cell_type": "code",
   "execution_count": null,
   "metadata": {},
   "outputs": [],
   "source": [
    "exclude = 'Australia'\n",
    "\n",
    "# Filter out the opponent to exclude from the data\n",
    "filtered_data = Australia_win[Australia_win['Team_2'] != exclude]\n",
    "\n",
    "# Plotting a bar chart to show the top 5 opponents faced by Australlia.\n",
    "plt.figure(figsize=(8, 5))\n",
    "plt.bar(list(filtered_data['Team_2'].value_counts()[0:5].keys()), list(filtered_data['Team_2'].value_counts()[0:5]), color=\"y\")\n",
    "plt.show()"
   ]
  },
  {
   "cell_type": "code",
   "execution_count": null,
   "metadata": {},
   "outputs": [],
   "source": [
    "exclude = 'Australia'\n",
    "\n",
    "# Filter out the opponent to exclude from the data\n",
    "filtered_data = Australia_win[Australia_win['Team_1'] != exclude]\n",
    "\n",
    "# Plotting a bar chart to show the top 5 opponents faced by Australlia.\n",
    "plt.figure(figsize=(8, 5))\n",
    "plt.bar(list(filtered_data['Team_1'].value_counts()[0:5].keys()), list(filtered_data['Team_1'].value_counts()[0:5]), color=\"y\")\n",
    "plt.show()"
   ]
  },
  {
   "cell_type": "code",
   "execution_count": null,
   "metadata": {},
   "outputs": [],
   "source": [
    "team_win_counts = {\n",
    "    'India': 82,\n",
    "    'New Zealand': 95,\n",
    "    'South Africa ': 48,\n",
    "    'Pakistan': 69,\n",
    "    'Sri Lanka': 63,\n",
    "    'Bangladesh': 19,\n",
    "    'England': 87,\n",
    "    'Netherlands': 2,\n",
    "    'Afghanistan': 3\n",
    "}\n",
    "\n",
    "# Total matches played is calculated\n",
    "total_matches = sum(team_win_counts.values())\n",
    "win_percentages = {team: (wins / total_matches) * 100 for team, wins in team_win_counts.items()}\n",
    "\n",
    "# Pie chart\n",
    "plt.figure(figsize=(5, 5))\n",
    "plt.pie(win_percentages.values(), labels=win_percentages.keys(), autopct='%1.1f%%', startangle=140)\n",
    "\n",
    "# Equal aspect ratio ensures that pie is drawn as a circle.\n",
    "plt.axis('equal')\n",
    "\n",
    "# Title for the pie chart\n",
    "plt.title('Win Percentage of Australia Against Each Team')\n",
    "\n",
    "# Display the pie chart\n",
    "plt.show()"
   ]
  },
  {
   "cell_type": "code",
   "execution_count": null,
   "metadata": {},
   "outputs": [],
   "source": [
    "team_win_counts_wc_aus = {\n",
    "    'India': 8,\n",
    "    'New Zealand': 8,\n",
    "    'South Africa ': 3,\n",
    "    'Pakistan': 6,\n",
    "    'Sri Lanka': 8,\n",
    "    'Bangladesh': 3,\n",
    "    'England': 6,\n",
    "    'Netherlands': 2,\n",
    "    'Afghanistan': 2\n",
    "}\n",
    "\n",
    "# Total matches played is calculated\n",
    "total_matches_wc_aus = sum(team_win_counts_wc_aus.values())\n",
    "\n",
    "# Australia's win percentages against each team is calculated\n",
    "win_percentages_wc_aus = {team: (wins / total_matches_wc_aus) * 100 for team, wins in team_win_counts_wc_aus.items()}\n",
    "\n",
    "# Pie chart\n",
    "plt.figure(figsize=(5, 5))\n",
    "plt.pie(win_percentages_wc_aus.values(), labels=win_percentages_wc_aus.keys(), autopct='%1.1f%%', startangle=140)\n",
    "\n",
    "# Equal aspect ratio ensures that pie is drawn as a circle.\n",
    "plt.axis('equal')\n",
    "\n",
    "# Title for the pie chart\n",
    "plt.title('Win Percentage of Australia in the ODI world cup')\n",
    "\n",
    "# Display the pie chart\n",
    "plt.show()\n"
   ]
  },
  {
   "cell_type": "code",
   "execution_count": null,
   "metadata": {},
   "outputs": [],
   "source": [
    "df2 = results[(results['Team_1'] == 'Pakistan') | (results['Team_2'] == 'Pakistan')]\n",
    "\n",
    "# Create a new DataFrame 'Pakistan' containing all rows from the filtered DataFrame\n",
    "Pakistan = df2.iloc[:]\n",
    "\n",
    "# Display the first few rows of the 'Pakistan' DataFrame\n",
    "Pakistan.head()"
   ]
  },
  {
   "cell_type": "code",
   "execution_count": 28,
   "metadata": {},
   "outputs": [],
   "source": [
    "Pakistan_win = Pakistan[Pakistan['Winner']=='Pakistan']"
   ]
  },
  {
   "cell_type": "code",
   "execution_count": null,
   "metadata": {},
   "outputs": [],
   "source": [
    "Pakistan_win"
   ]
  },
  {
   "cell_type": "code",
   "execution_count": null,
   "metadata": {},
   "outputs": [],
   "source": [
    "excluded_value = 'Pakistan'\n",
    "\n",
    "# Filtering out rows with the excluded value\n",
    "filtered_df = Pakistan_win[Pakistan_win['Team_2'] != excluded_value]\n",
    "\n",
    "# Counting the occurrences of each value in the filtered DataFrame's 'Team_2' column.\n",
    "value_counts = filtered_df['Team_2'].value_counts()\n",
    "\n",
    "# Print the value counts\n",
    "print(value_counts)"
   ]
  },
  {
   "cell_type": "code",
   "execution_count": null,
   "metadata": {},
   "outputs": [],
   "source": [
    "excluded_value = 'Pakistan'\n",
    "\n",
    "# Filtering out rows with the excluded value\n",
    "filtered_df = Pakistan_win[Pakistan_win['Team_1'] != excluded_value]\n",
    "\n",
    "# Counting the occurrences of each value in the filtered DataFrame's 'Team_1' column.\n",
    "value_counts = filtered_df['Team_1'].value_counts()\n",
    "\n",
    "# Print the value counts\n",
    "print(value_counts)"
   ]
  },
  {
   "cell_type": "code",
   "execution_count": null,
   "metadata": {},
   "outputs": [],
   "source": [
    "exclude = 'Pakistan'\n",
    "\n",
    "# Filter out the opponent to exclude from the data\n",
    "filtered_data = Pakistan_win[Pakistan_win['Team_2'] != exclude]\n",
    "\n",
    "# Plotting a bar chart to show the top 5 opponents faced by Pakistan.\n",
    "plt.figure(figsize=(8, 5))\n",
    "plt.bar(list(filtered_data['Team_2'].value_counts()[0:5].keys()), list(filtered_data['Team_2'].value_counts()[0:5]), color=\"g\")\n",
    "plt.show()"
   ]
  },
  {
   "cell_type": "code",
   "execution_count": null,
   "metadata": {},
   "outputs": [],
   "source": [
    "exclude = 'Pakistan'\n",
    "\n",
    "# Filter out the opponent to exclude from the data\n",
    "filtered_data = Pakistan_win[Pakistan_win['Team_1'] != exclude]\n",
    "\n",
    "# Plotting a bar chart to show the top 5 opponents faced by Pakistan.\n",
    "plt.figure(figsize=(8, 5))\n",
    "plt.bar(list(filtered_data['Team_1'].value_counts()[0:5].keys()), list(filtered_data['Team_1'].value_counts()[0:5]), color=\"g\")\n",
    "plt.show()"
   ]
  },
  {
   "cell_type": "code",
   "execution_count": null,
   "metadata": {},
   "outputs": [],
   "source": [
    "team_win_counts = {\n",
    "    'India': 73,\n",
    "    'New Zealand': 60,\n",
    "    'South Africa ': 30,\n",
    "    'Australia': 34,\n",
    "    'Sri Lanka': 92,\n",
    "    'Bangladesh': 32,\n",
    "    'England': 32,\n",
    "    'Netherlands': 3,\n",
    "    'Afghanistan': 7\n",
    "}\n",
    "\n",
    "# Total matches played is calculated\n",
    "total_matches = sum(team_win_counts.values())\n",
    "\n",
    "# Pakistan's win percentages against each team is calculated\n",
    "win_percentages = {team: (wins / total_matches) * 100 for team, wins in team_win_counts.items()}\n",
    "\n",
    "# Pie chart\n",
    "plt.figure(figsize=(5, 5))\n",
    "plt.pie(win_percentages.values(), labels=win_percentages.keys(), autopct='%1.1f%%', startangle=140)\n",
    "plt.axis('equal')\n",
    "\n",
    "# Title for the pie chart\n",
    "plt.title('Win Percentage of Pakistan Against Each Team')\n",
    "\n",
    "# Display the pie chart\n",
    "plt.show()"
   ]
  },
  {
   "cell_type": "code",
   "execution_count": null,
   "metadata": {},
   "outputs": [],
   "source": [
    "team_win_counts_wc_pak = {\n",
    "    'India': 0,\n",
    "    'New Zealand': 7,\n",
    "    'South Africa ': 2,\n",
    "    'Australia': 4,\n",
    "    'Sri Lanka': 7,\n",
    "    'Bangladesh': 1,\n",
    "    'England': 5,\n",
    "    'Afghanistan': 1\n",
    "}\n",
    "\n",
    "# Total matches played is calculated\n",
    "total_matches_wc_pak = sum(team_win_counts_wc_pak.values())\n",
    "\n",
    "# Pakistan's win percentages against each team is calculated\n",
    "win_percentages_wc_pak = {team: (wins / total_matches_wc_pak) * 100 for team, wins in team_win_counts_wc_pak.items()}\n",
    "\n",
    "# Pie chart\n",
    "plt.figure(figsize=(5, 5))\n",
    "plt.pie(win_percentages_wc_pak.values(), labels=win_percentages_wc_pak.keys(), autopct='%1.1f%%', startangle=140)\n",
    "plt.axis('equal')\n",
    "\n",
    "# Title for the pie chart\n",
    "plt.title('Win Percentage of Pakistan in the ODI world cup')\n",
    "\n",
    "# Display the pie chart\n",
    "plt.show()"
   ]
  },
  {
   "cell_type": "code",
   "execution_count": null,
   "metadata": {},
   "outputs": [],
   "source": [
    "df3 = results[(results['Team_1'] == 'New Zealand') | (results['Team_2'] == 'New Zealand')]\n",
    "\n",
    "# Create a new DataFrame 'New Zealand' containing all rows from the filtered DataFrame\n",
    "New_Zealand = df3.iloc[:]\n",
    "\n",
    "# Display the first few rows of the 'India' DataFrame\n",
    "New_Zealand.head()"
   ]
  },
  {
   "cell_type": "code",
   "execution_count": null,
   "metadata": {},
   "outputs": [],
   "source": [
    "nz_win = New_Zealand[New_Zealand['Winner']=='New Zealand']\n",
    "nz_win"
   ]
  },
  {
   "cell_type": "code",
   "execution_count": null,
   "metadata": {},
   "outputs": [],
   "source": [
    "excluded_value = 'New Zealand'\n",
    "\n",
    "# Filtering out rows with the excluded value\n",
    "filtered_df = nz_win[nz_win['Team_2'] != excluded_value]\n",
    "\n",
    "# Counting the occurrences of each value in the filtered DataFrame's 'Team_2' column.\n",
    "value_counts = filtered_df['Team_2'].value_counts()\n",
    "\n",
    "# Print the value counts\n",
    "print(value_counts)"
   ]
  },
  {
   "cell_type": "code",
   "execution_count": null,
   "metadata": {},
   "outputs": [],
   "source": [
    "excluded_value = 'New Zealand'\n",
    "\n",
    "# Filtering out rows with the excluded value\n",
    "filtered_df = nz_win[nz_win['Team_1'] != excluded_value]\n",
    "\n",
    "# Counting the occurrences of each value in the filtered DataFrame's 'Team_2' column.\n",
    "value_counts = filtered_df['Team_1'].value_counts()\n",
    "\n",
    "# Print the value counts\n",
    "print(value_counts)"
   ]
  },
  {
   "cell_type": "code",
   "execution_count": null,
   "metadata": {},
   "outputs": [],
   "source": [
    "exclude = 'New Zealand'\n",
    "\n",
    "# Filter out the opponent to exclude from the data\n",
    "filtered_data = nz_win[nz_win['Team_2'] != exclude]\n",
    "\n",
    "# Plotting a bar chart to show the top 5 opponents faced by New Zealand.\n",
    "plt.figure(figsize=(8, 5))\n",
    "plt.bar(list(filtered_data['Team_2'].value_counts()[0:5].keys()), list(filtered_data['Team_2'].value_counts()[0:5]), color=\"black\")\n",
    "plt.show()"
   ]
  },
  {
   "cell_type": "code",
   "execution_count": null,
   "metadata": {},
   "outputs": [],
   "source": [
    "exclude = 'New Zealand'\n",
    "\n",
    "# Filter out the opponent to exclude from the data\n",
    "filtered_data = nz_win[nz_win['Team_1'] != exclude]\n",
    "\n",
    "# Plotting a bar chart to show the top 5 opponents faced by New Zealand.\n",
    "plt.figure(figsize=(8, 5))\n",
    "plt.bar(list(filtered_data['Team_1'].value_counts()[0:5].keys()), list(filtered_data['Team_1'].value_counts()[0:5]), color=\"black\")\n",
    "plt.show()"
   ]
  },
  {
   "cell_type": "code",
   "execution_count": null,
   "metadata": {},
   "outputs": [],
   "source": [
    "team_win_counts = {\n",
    "    'Australia': 39,\n",
    "    'India': 50,\n",
    "    'South Africa ': 26,\n",
    "    'Pakistan': 50,\n",
    "    'Sri Lanka': 49,\n",
    "    'Bangladesh':28,\n",
    "    'England': 42,\n",
    "    'Netherlands': 4,\n",
    "    'Afghanistan': 2\n",
    "}\n",
    "\n",
    "# Total matches played is calculated\n",
    "total_matches = sum(team_win_counts.values())\n",
    "\n",
    "# New Zealand's's win percentages against each team is calculated\n",
    "win_percentages = {team: (wins / total_matches) * 100 for team, wins in team_win_counts.items()}\n",
    "\n",
    "# Pie chart\n",
    "plt.figure(figsize=(5, 5))\n",
    "plt.pie(win_percentages.values(), labels=win_percentages.keys(), autopct='%1.1f%%', startangle=140)\n",
    "plt.axis('equal')\n",
    "\n",
    "# Title for the pie chart\n",
    "plt.title('Win Percentage of New Zealand Against Each Team')\n",
    "\n",
    "# Display the pie chart\n",
    "plt.show()"
   ]
  },
  {
   "cell_type": "code",
   "execution_count": null,
   "metadata": {},
   "outputs": [],
   "source": [
    "team_win_counts_wc_nz = {\n",
    "    'Australia': 3,\n",
    "    'India': 5,\n",
    "    'South Africa ': 5,\n",
    "    'Pakistan': 2,\n",
    "    'Sri Lanka': 5,\n",
    "    'Bangladesh': 5,\n",
    "    'England': 5,\n",
    "    'Netherlands': 4,\n",
    "    'Afghanistan': 2\n",
    "}\n",
    "\n",
    "# Total matches played is calculated\n",
    "total_matches_wc_nz = sum(team_win_counts_wc_nz.values())\n",
    "\n",
    "# New Zealand's win percentages against each team is calculated\n",
    "win_percentages_wc_nz = {team: (wins / total_matches_wc_nz) * 100 for team, wins in team_win_counts_wc_nz.items()}\n",
    "plt.figure(figsize=(5, 5))\n",
    "plt.pie(win_percentages_wc_nz.values(), labels=win_percentages_wc_nz.keys(), autopct='%1.1f%%', startangle=140)\n",
    "\n",
    "# Equal aspect ratio ensures that pie is drawn as a circle.\n",
    "plt.axis('equal')\n",
    "\n",
    "# Title for the pie chart\n",
    "plt.title('Win Percentage of New Zealand in the ODI world cup')\n",
    "\n",
    "# Display the pie chart\n",
    "plt.show()"
   ]
  },
  {
   "cell_type": "code",
   "execution_count": null,
   "metadata": {},
   "outputs": [],
   "source": [
    "df4 = results[(results['Team_1'] == 'England') | (results['Team_2'] == 'England')]\n",
    "\n",
    "# Create a new DataFrame 'England' containing all rows from the filtered DataFrame\n",
    "England = df4.iloc[:]\n",
    "\n",
    "# Display the first few rows of the 'England' DataFrame\n",
    "England.head()"
   ]
  },
  {
   "cell_type": "code",
   "execution_count": null,
   "metadata": {},
   "outputs": [],
   "source": [
    "England_win = England[England['Winner']=='England']\n",
    "England_win"
   ]
  },
  {
   "cell_type": "code",
   "execution_count": null,
   "metadata": {},
   "outputs": [],
   "source": [
    "excluded_value = 'England'\n",
    "\n",
    "# Filtering out rows with the excluded value\n",
    "filtered_df = England_win[England_win['Team_2'] != excluded_value]\n",
    "\n",
    "# Counting the occurrences of each value in the filtered DataFrame's 'Team_2' column.\n",
    "value_counts = filtered_df['Team_2'].value_counts()\n",
    "\n",
    "# Print the value counts\n",
    "print(value_counts)"
   ]
  },
  {
   "cell_type": "code",
   "execution_count": null,
   "metadata": {},
   "outputs": [],
   "source": [
    "excluded_value = 'England'\n",
    "\n",
    "# Filtering out rows with the excluded value\n",
    "filtered_df = England_win[England_win['Team_1'] != excluded_value]\n",
    "\n",
    "# Counting the occurrences of each value in the filtered DataFrame's 'Team_1' column.\n",
    "value_counts = filtered_df['Team_1'].value_counts()\n",
    "\n",
    "# Print the value counts\n",
    "print(value_counts)"
   ]
  },
  {
   "cell_type": "code",
   "execution_count": null,
   "metadata": {},
   "outputs": [],
   "source": [
    "exclude = 'England'\n",
    "\n",
    "# Filter out the opponent to exclude from the data\n",
    "filtered_data = England_win[England_win['Team_2'] != exclude]\n",
    "\n",
    "# Plotting a bar chart to show the top 5 opponents faced by England.\n",
    "plt.figure(figsize=(8, 5))\n",
    "plt.bar(list(filtered_data['Team_2'].value_counts()[0:5].keys()), list(filtered_data['Team_2'].value_counts()[0:5]), color=\"red\")\n",
    "plt.show()"
   ]
  },
  {
   "cell_type": "code",
   "execution_count": null,
   "metadata": {},
   "outputs": [],
   "source": [
    "exclude = 'England'\n",
    "\n",
    "# Filter out the opponent to exclude from the data\n",
    "filtered_data = England_win[England_win['Team_1'] != exclude]\n",
    "\n",
    "# Plotting a bar chart to show the top 5 opponents faced by England.\n",
    "plt.figure(figsize=(8, 5))\n",
    "plt.bar(list(filtered_data['Team_1'].value_counts()[0:5].keys()), list(filtered_data['Team_1'].value_counts()[0:5]), color=\"red\")\n",
    "plt.show()"
   ]
  },
  {
   "cell_type": "code",
   "execution_count": null,
   "metadata": {},
   "outputs": [],
   "source": [
    "team_win_counts = {\n",
    "    'India': 44,\n",
    "    'New Zealand': 42,\n",
    "    'South Africa ': 29,\n",
    "    'Australia': 63,\n",
    "    'Sri Lanka': 38,\n",
    "    'Bangladesh': 19,\n",
    "    'Pakistan': 56,\n",
    "    'Netherlands': 6,\n",
    "    'Afghanistan': 2\n",
    "}\n",
    "\n",
    "# Total matches played is calculated\n",
    "total_matches = sum(team_win_counts.values())\n",
    "\n",
    "# England's win percentages against each team is calculated\n",
    "win_percentages = {team: (wins / total_matches) * 100 for team, wins in team_win_counts.items()}\n",
    "\n",
    "# Pie chart\n",
    "plt.figure(figsize=(5, 5))\n",
    "plt.pie(win_percentages.values(), labels=win_percentages.keys(), autopct='%1.1f%%', startangle=140)\n",
    "plt.axis('equal')\n",
    "\n",
    "# Title for the pie chart\n",
    "plt.title('Win Percentage of England Against Each Team')\n",
    "\n",
    "# Display the pie chart\n",
    "plt.show()"
   ]
  },
  {
   "cell_type": "code",
   "execution_count": null,
   "metadata": {},
   "outputs": [],
   "source": [
    "team_win_counts_wc_eng = {\n",
    "    'Australia': 3,\n",
    "    'India': 4,\n",
    "    'South Africa ': 4,\n",
    "    'Pakistan': 4,\n",
    "    'Sri Lanka': 6,\n",
    "    'Bangladesh': 5,\n",
    "    'New Zealand': 5,\n",
    "    'Netherlands': 4,\n",
    "    'Afghanistan': 2\n",
    "}\n",
    "\n",
    "# Total matches played is calculated\n",
    "total_matches_wc_eng= sum(team_win_counts_wc_eng.values())\n",
    "\n",
    "# England's win percentages against each team is calculated\n",
    "win_percentages_wc_eng = {team: (wins / total_matches_wc_eng) * 100 for team, wins in team_win_counts_wc_eng.items()}\n",
    "\n",
    "# Pie chart\n",
    "plt.figure(figsize=(5, 5))\n",
    "plt.pie(win_percentages_wc_eng.values(), labels=win_percentages_wc_eng.keys(), autopct='%1.1f%%', startangle=140)\n",
    "plt.axis('equal')\n",
    "\n",
    "# Title for the pie chart\n",
    "plt.title('Win Percentage of England in the ODI world cup')\n",
    "\n",
    "# Display the pie chart\n",
    "plt.show()"
   ]
  },
  {
   "cell_type": "code",
   "execution_count": null,
   "metadata": {},
   "outputs": [],
   "source": [
    "worldcup_teams = ['England', ' South Africa', '', 'West Indies',\n",
    "            'Pakistan', 'New Zealand', 'Sri Lanka', 'Afghanistan',\n",
    "            'Australia', 'Bangladesh', 'India']\n",
    "\n",
    "# Filtering matches involving only teams in the 'worldcup_teams' list\n",
    "df_teams_1 = results[results['Team_1'].isin(worldcup_teams)]  # Extracts matches with Team_1 in 'worldcup_teams'\n",
    "df_teams_2 = results[results['Team_2'].isin(worldcup_teams)]  # Extracts matches with Team_2 in 'worldcup_teams'\n",
    "\n",
    "# Combining the filtered dataframes\n",
    "df_teams = pd.concat((df_teams_1, df_teams_2))  # Concatenates the two dataframes vertically\n",
    "\n",
    "df_teams.drop_duplicates()  # Removes duplicate rows if any\n",
    "\n",
    "df_teams.count()"
   ]
  },
  {
   "cell_type": "code",
   "execution_count": null,
   "metadata": {},
   "outputs": [],
   "source": [
    "df_teams.head()"
   ]
  },
  {
   "cell_type": "code",
   "execution_count": null,
   "metadata": {},
   "outputs": [],
   "source": [
    "# Removing unnecessary columns from df_teams and displaying the first few rows of the updated dataframe.\n",
    "df_teams_2019 = df_teams.drop(['Date','Margin', 'Ground'], axis=1)\n",
    "df_teams_2019.head()"
   ]
  },
  {
   "cell_type": "code",
   "execution_count": null,
   "metadata": {},
   "outputs": [],
   "source": [
    "df_teams_2019"
   ]
  },
  {
   "cell_type": "code",
   "execution_count": null,
   "metadata": {},
   "outputs": [],
   "source": [
    "# Reset the index of df_teams_2019 while dropping the old index.\n",
    "df_teams_2019 = df_teams_2019.reset_index(drop=True)\n",
    "\n",
    "# Set a value of 1 in the 'winning_team' column for rows where the 'Winner' column is the same as the 'Team_1' column.\n",
    "df_teams_2019.loc[df_teams_2019.Winner == df_teams_2019.Team_1,'winning_team']=1\n",
    "\n",
    "# Set a value of 2 in the 'winning_team' column for rows where the 'Winner' column is the same as the 'Team_2' column.\n",
    "df_teams_2019.loc[df_teams_2019.Winner == df_teams_2019.Team_2, 'winning_team']=2\n",
    "\n",
    "# Drop the 'winning_team' column from the DataFrame.\n",
    "df_teams_2019 = df_teams_2019.drop(['winning_team'], axis=1)\n",
    "\n",
    "# Display the first few rows of the modified DataFrame using df_teams_2019.head().\n",
    "df_teams_2019.head()"
   ]
  },
  {
   "cell_type": "code",
   "execution_count": null,
   "metadata": {},
   "outputs": [],
   "source": [
    "from sklearn.model_selection import train_test_split\n",
    "df_teams_2019[\"Team_1\"].unique()"
   ]
  },
  {
   "cell_type": "code",
   "execution_count": null,
   "metadata": {},
   "outputs": [],
   "source": [
    "df_teams_2019[\"Team_1\"]=df_teams_2019[\"Team_1\"].str.rstrip()\n",
    "df_teams_2019[\"Team_1\"].unique()"
   ]
  },
  {
   "cell_type": "code",
   "execution_count": null,
   "metadata": {},
   "outputs": [],
   "source": [
    "df_teams_2019[\"Team_2\"]=df_teams_2019[\"Team_2\"].str.rstrip()\n",
    "df_teams_2019[\"Team_2\"].unique()"
   ]
  },
  {
   "cell_type": "code",
   "execution_count": null,
   "metadata": {},
   "outputs": [],
   "source": [
    "df_teams_2019[\"Winner\"].unique()"
   ]
  },
  {
   "cell_type": "code",
   "execution_count": null,
   "metadata": {},
   "outputs": [],
   "source": [
    "df_teams_2019[\"Winner\"]=df_teams_2019[\"Winner\"].str.rstrip()\n",
    "df_teams_2019[\"Winner\"].unique()"
   ]
  },
  {
   "cell_type": "code",
   "execution_count": 63,
   "metadata": {},
   "outputs": [],
   "source": [
    "# Creating dummy variables for team names\n",
    "final = pd.get_dummies(df_teams_2019, prefix=['Team_1', 'Team_2'], columns=['Team_1', 'Team_2'])\n",
    "\n",
    "X = final.drop(['Winner'], axis=1)  # Extracting features by dropping the 'Winner' column\n",
    "y = final[\"Winner\"]  # Assigning the 'Winner' column as the target variable\n",
    "\n",
    "# Split the data into training and testing sets using a test size of 20% and a random state of 42.\n",
    "X_train, X_test, y_train, y_test = train_test_split(X, y, test_size=0.20, random_state=42)"
   ]
  },
  {
   "cell_type": "code",
   "execution_count": null,
   "metadata": {},
   "outputs": [],
   "source": [
    "final.columns"
   ]
  },
  {
   "cell_type": "code",
   "execution_count": null,
   "metadata": {},
   "outputs": [],
   "source": [
    "from sklearn.ensemble import RandomForestClassifier\n",
    "\n",
    "# Create an Random forest classifier with a linear kernel\n",
    "rf = RandomForestClassifier(n_estimators=100, max_depth=20,\n",
    "                              random_state=0)\n",
    "\n",
    "# Fit the classifier on the training data\n",
    "rf.fit(X_train, y_train)\n",
    "\n",
    "# Make predictions on the test data\n",
    "pred = rf.predict(X_test)\n",
    "\n",
    "# Calculating training set score:\n",
    "score = rf.score(X_train, y_train)\n",
    "\n",
    "# Calculating test set score:\n",
    "score2 = rf.score(X_test, y_test)\n",
    "\n",
    "# Printing the training set accuracy with 3 decimal places\n",
    "print(\"Training set accuracy: \", '%.3f'%(score))\n",
    "print(\"Test set accuracy: \", '%.3f'%(score2))"
   ]
  },
  {
   "cell_type": "code",
   "execution_count": null,
   "metadata": {},
   "outputs": [],
   "source": [
    "from sklearn.linear_model import LogisticRegression\n",
    "# LogisticRegression\n",
    "lr = LogisticRegression(random_state=0)\n",
    "lr.fit(X_train, y_train)\n",
    "\n",
    "# Make predictions on the test data\n",
    "pred = lr.predict(X_test)\n",
    "\n",
    "# Calculating training set score:\n",
    "score = lr.score(X_train, y_train)\n",
    "\n",
    "# Calculating test set score:\n",
    "score2 = lr.score(X_test, y_test)\n",
    "\n",
    "# Printing the training set accuracy with 3 decimal places\n",
    "print(\"Training set accuracy: \", '%.3f'%(score))\n",
    "\n",
    "# Printing the test set accuracy with 3 decimal places\n",
    "print(\"Test set accuracy: \", '%.3f'%(score2))"
   ]
  },
  {
   "cell_type": "code",
   "execution_count": 71,
   "metadata": {},
   "outputs": [],
   "source": [
    "ranking = pd.read_csv('worldcup/Icc_ranking.csv')  # Read the ICC rankings from the 'Icc_ranking.csv' file\n",
    "fixtures = pd.read_csv('worldcup/Fixtures.csv')    # Read the fixtures from the 'Fixtures.csv' file\n",
    "\n",
    "pred_set = []"
   ]
  },
  {
   "cell_type": "code",
   "execution_count": null,
   "metadata": {},
   "outputs": [],
   "source": [
    "# Code to insert team rankings into the fixtures dataframe based on 'Team_1' and 'Team_2' columns.\n",
    "fixtures.insert(1, 'first_position', fixtures['Team_1'].map(ranking.set_index('Team_name')['Team_ranking'])) # Insert team rankings for 'Team_1' column.\n",
    "fixtures.insert(2, 'second_position', fixtures['Team_2'].map(ranking.set_index('Team_name')['Team_ranking'])) # Insert team rankings for 'Team_2' column.\n",
    "\n",
    "# Select the first 45 rows of the updated fixtures dataframe.\n",
    "fixtures = fixtures.iloc[:45, :]\n",
    "fixtures.head() "
   ]
  },
  {
   "cell_type": "code",
   "execution_count": null,
   "metadata": {},
   "outputs": [],
   "source": [
    "fixtures['first_position']=fixtures['first_position'].fillna(fixtures['first_position'].mean())\n",
    "fixtures['second_position']=fixtures['second_position'].fillna(fixtures['second_position'].mean())\n",
    "fixtures.head()"
   ]
  },
  {
   "cell_type": "code",
   "execution_count": null,
   "metadata": {},
   "outputs": [],
   "source": [
    "for index, row in fixtures.iterrows():\n",
    "    if row['first_position'] < row['second_position']:\n",
    "        pred_set.append({'Team_1': row['Team_1'], 'Team_2': row['Team_2'], 'winning_team': None})\n",
    "    else:\n",
    "        pred_set.append({'Team_1': row['Team_2'], 'Team_2': row['Team_1'], 'winning_team': None})\n",
    "\n",
    "pred_set = pd.DataFrame(pred_set) # Creating a DataFrame for pred_set.\n",
    "backup_pred_set = pred_set  # Creating a backup of the pred_set DataFrame\n",
    "pred_set.head() "
   ]
  },
  {
   "cell_type": "code",
   "execution_count": null,
   "metadata": {},
   "outputs": [],
   "source": [
    "pred_set = pd.get_dummies(pred_set, prefix=['Team_1', 'Team_2'], columns=['Team_1', 'Team_2'])\n",
    "\n",
    "# Finding missing columns in the final dataset compared to the transformed 'pred_set'.\n",
    "missing_cols = set(final.columns) - set(pred_set.columns)\n",
    "\n",
    "# Setting the missing columns in \"pred_set\" DataFrame to 0 and then keeps only the columns present in the \"final\" DataFrame.\n",
    "for c in missing_cols:\n",
    "    pred_set[c] = 0\n",
    "pred_set = pred_set[final.columns]\n",
    "\n",
    "# Dropping the 'Winner' column from pred_set.\n",
    "pred_set = pred_set.drop(['Winner'], axis=1)\n",
    "pred_set.head()"
   ]
  },
  {
   "cell_type": "code",
   "execution_count": null,
   "metadata": {},
   "outputs": [],
   "source": [
    "predictions = lr.predict(pred_set)\n",
    "for i in range(fixtures.shape[0]):\n",
    "    print(backup_pred_set.iloc[i, 0] + \" vs \" + backup_pred_set.iloc[i, 1])\n",
    "    if predictions[i] == 1:\n",
    "        print(\"Winner: \" + backup_pred_set.iloc[i, 1])\n",
    "\n",
    "    else:\n",
    "        print(\"Winner: \" + backup_pred_set.iloc[i, 0])\n",
    "    print(\"\")"
   ]
  },
  {
   "cell_type": "code",
   "execution_count": null,
   "metadata": {},
   "outputs": [],
   "source": [
    "unique, frequency = np.unique(predictions, \n",
    "                              return_counts = True)\n",
    "D={}\n",
    "for i in range(len(unique)):\n",
    "    D[unique[i]]=frequency[i]\n",
    "print(D)"
   ]
  },
  {
   "cell_type": "code",
   "execution_count": 78,
   "metadata": {},
   "outputs": [],
   "source": [
    "semi = [('Pakistan', 'Australia'),\n",
    "            ('England', 'India')]"
   ]
  },
  {
   "cell_type": "code",
   "execution_count": null,
   "metadata": {},
   "outputs": [],
   "source": [
    "def clean_and_predict(matches, ranking, final, rf):\n",
    "    # Initialize an empty list to store the positions of teams in the ranking\n",
    "    positions = []\n",
    "\n",
    "    # Loop through the list of matches and add the rankings of the teams to the positions list\n",
    "    for match in matches:\n",
    "        positions.append(ranking.loc[ranking['Team_name'] == match[0], 'Team_ranking'].iloc[0])\n",
    "        positions.append(ranking.loc[ranking['Team_name'] == match[0], 'Team_ranking'].iloc[0])\n",
    "\n",
    "    # Initialize an empty list to store the match predictions\n",
    "    pred_set = []\n",
    "\n",
    "    # Initialize indices i and j to 0 for iteration\n",
    "    i = 0\n",
    "    j = 0\n",
    "\n",
    "    # Loop through the positions list to create match predictions\n",
    "    while i < len(positions):\n",
    "        dict1 = {}\n",
    "        # Compare the positions of the two teams in the match\n",
    "        # and add the corresponding team names to the prediction dictionary\n",
    "        if positions[i] < positions[i + 1]:\n",
    "            dict1.update({'Team_1': matches[j][0], 'Team_2': matches[j][1]})\n",
    "        else:\n",
    "            dict1.update({'Team_1': matches[j][1], 'Team_2': matches[j][0]})\n",
    "\n",
    "        # Add the prediction dictionary to the pred_set list\n",
    "        pred_set.append(dict1)\n",
    "        i += 2\n",
    "        j += 1\n",
    "\n",
    "    # Convert the pred_set list into a pandas DataFrame\n",
    "    pred_set = pd.DataFrame(pred_set)\n",
    "\n",
    "    # Make a backup of the pred_set DataFrame\n",
    "    backup_pred_set = pred_set\n",
    "\n",
    "    # Convert categorical variables in the pred_set DataFrame into dummy variables\n",
    "    pred_set = pd.get_dummies(pred_set, prefix=['Team_1', 'Team_2'], columns=['Team_1', 'Team_2'])\n",
    "\n",
    "    # Identify missing columns in pred_set compared to the final DataFrame\n",
    "    missing_cols2 = set(final.columns) - set(pred_set.columns)\n",
    "\n",
    "    # Add the missing columns to the pred_set DataFrame and set their values to 0\n",
    "    for c in missing_cols2:\n",
    "        pred_set[c] = 0\n",
    "\n",
    "    # Reorder pred_set columns to match the final DataFrame's order\n",
    "    pred_set = pred_set[final.columns]\n",
    "\n",
    "    # Drop the 'Winner' column from the pred_set DataFrame\n",
    "    pred_set = pred_set.drop(['Winner'], axis=1)\n",
    "\n",
    "    # Use the provided classifier (cls) to make predictions on the pred_set DataFrame\n",
    "    predictions = rf.predict(pred_set)\n",
    "\n",
    "    # Loop through the pred_set DataFrame and print the match predictions and winners\n",
    "    for i in range(len(pred_set)):\n",
    "        print(backup_pred_set.iloc[i, 1] + \" vs \" + backup_pred_set.iloc[i, 0])\n",
    "        if predictions[i] == 1:\n",
    "            print(\"Winner: \" + backup_pred_set.iloc[i, 1])\n",
    "        else:\n",
    "            print(\"Winner: \" + backup_pred_set.iloc[i, 0])\n",
    "        print(\"\")\n",
    "\n",
    "# Call the clean_and_predict function with the provided arguments\n",
    "clean_and_predict(semi, ranking, final, rf)"
   ]
  },
  {
   "cell_type": "code",
   "execution_count": 80,
   "metadata": {},
   "outputs": [],
   "source": [
    "finals = [('Australia','New Zealand')]"
   ]
  },
  {
   "cell_type": "code",
   "execution_count": null,
   "metadata": {},
   "outputs": [],
   "source": []
  },
  {
   "cell_type": "code",
   "execution_count": null,
   "metadata": {},
   "outputs": [],
   "source": [
    "clean_and_predict(finals, ranking, final, rf)\n"
   ]
  },
  {
   "cell_type": "code",
   "execution_count": 82,
   "metadata": {},
   "outputs": [],
   "source": [
    "\n"
   ]
  }
 ],
 "metadata": {
  "kernelspec": {
   "display_name": "base",
   "language": "python",
   "name": "python3"
  },
  "language_info": {
   "codemirror_mode": {
    "name": "ipython",
    "version": 3
   },
   "file_extension": ".py",
   "mimetype": "text/x-python",
   "name": "python",
   "nbconvert_exporter": "python",
   "pygments_lexer": "ipython3",
   "version": "3.12.4"
  }
 },
 "nbformat": 4,
 "nbformat_minor": 2
}
